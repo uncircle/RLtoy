{
 "cells": [
  {
   "cell_type": "code",
   "execution_count": 5,
   "id": "initial_id",
   "metadata": {
    "collapsed": true,
    "ExecuteTime": {
     "end_time": "2023-12-26T15:04:15.195411Z",
     "start_time": "2023-12-26T15:04:15.189308Z"
    }
   },
   "outputs": [],
   "source": [
    "import gymnasium as gym\n",
    "from stable_baselines3.common.evaluation import evaluate_policy\n",
    "from stable_baselines3 import PPO\n",
    "from stable_baselines3.common.vec_env import DummyVecEnv, VecVideoRecorder\n",
    "from stable_baselines3.common.monitor import Monitor\n",
    "import os\n",
    "import numpy as np\n"
   ]
  },
  {
   "cell_type": "code",
   "outputs": [],
   "source": [
    "env = gym.make('CarRacing-v2', render_mode='rgb_array')"
   ],
   "metadata": {
    "collapsed": false,
    "ExecuteTime": {
     "end_time": "2023-12-26T15:09:25.110896Z",
     "start_time": "2023-12-26T15:09:25.108479Z"
    }
   },
   "id": "80f73a629843f61c",
   "execution_count": 9
  },
  {
   "cell_type": "code",
   "outputs": [
    {
     "data": {
      "text/plain": "Box([-1.  0.  0.], 1.0, (3,), float32)"
     },
     "execution_count": 3,
     "metadata": {},
     "output_type": "execute_result"
    }
   ],
   "source": [
    "env.action_space"
   ],
   "metadata": {
    "collapsed": false,
    "ExecuteTime": {
     "end_time": "2023-12-26T15:02:15.341386Z",
     "start_time": "2023-12-26T15:02:15.338723Z"
    }
   },
   "id": "f28514fcbf0c2af1",
   "execution_count": 3
  },
  {
   "cell_type": "code",
   "outputs": [
    {
     "data": {
      "text/plain": "Box(0, 255, (96, 96, 3), uint8)"
     },
     "execution_count": 4,
     "metadata": {},
     "output_type": "execute_result"
    }
   ],
   "source": [
    "env.observation_space"
   ],
   "metadata": {
    "collapsed": false,
    "ExecuteTime": {
     "end_time": "2023-12-26T15:02:19.902333Z",
     "start_time": "2023-12-26T15:02:19.899823Z"
    }
   },
   "id": "5202a2542fee9081",
   "execution_count": 4
  },
  {
   "cell_type": "code",
   "outputs": [],
   "source": [
    "# try random policy\n",
    "env = DummyVecEnv([lambda: env])\n",
    "env = Monitor(env)"
   ],
   "metadata": {
    "collapsed": false,
    "ExecuteTime": {
     "end_time": "2023-12-26T15:09:33.154461Z",
     "start_time": "2023-12-26T15:09:33.149595Z"
    }
   },
   "id": "819e910f818a0d66",
   "execution_count": 10
  },
  {
   "cell_type": "code",
   "outputs": [],
   "source": [
    "env_id = 'CartRacing'\n",
    "video_path = os.path.join('logs/videos')\n",
    "video_length = 1000\n",
    "env = VecVideoRecorder(env, video_folder=video_path, record_video_trigger=lambda x: x==0, video_length=video_length, name_prefix=f'random_agent_{env_id}')\n"
   ],
   "metadata": {
    "collapsed": false,
    "ExecuteTime": {
     "end_time": "2023-12-26T15:09:34.249773Z",
     "start_time": "2023-12-26T15:09:34.244981Z"
    }
   },
   "id": "fce80d694ad6d766",
   "execution_count": 11
  },
  {
   "cell_type": "code",
   "outputs": [
    {
     "name": "stdout",
     "output_type": "stream",
     "text": [
      "Moviepy - Building video /Users/andrew/PycharmProjects/RLtoy/SelfDriving/logs/videos/random_agent_CartRacing-step-0-to-step-1000.mp4.\n",
      "Moviepy - Writing video /Users/andrew/PycharmProjects/RLtoy/SelfDriving/logs/videos/random_agent_CartRacing-step-0-to-step-1000.mp4\n"
     ]
    },
    {
     "name": "stderr",
     "output_type": "stream",
     "text": [
      "                                                  "
     ]
    },
    {
     "name": "stdout",
     "output_type": "stream",
     "text": [
      "Moviepy - Done !\n",
      "Moviepy - video ready /Users/andrew/PycharmProjects/RLtoy/SelfDriving/logs/videos/random_agent_CartRacing-step-0-to-step-1000.mp4\n"
     ]
    },
    {
     "name": "stderr",
     "output_type": "stream",
     "text": [
      "/Users/andrew/PycharmProjects/RLtoy/.venv/lib/python3.9/site-packages/gymnasium/core.py:311: UserWarning: \u001B[33mWARN: env.step_async to get variables from other wrappers is deprecated and will be removed in v1.0, to get this variable you can do `env.unwrapped.step_async` for environment variables or `env.get_wrapper_attr('step_async')` that will search the reminding wrappers.\u001B[0m\n",
      "  logger.warn(\n",
      "/Users/andrew/PycharmProjects/RLtoy/.venv/lib/python3.9/site-packages/gymnasium/core.py:311: UserWarning: \u001B[33mWARN: env.step_wait to get variables from other wrappers is deprecated and will be removed in v1.0, to get this variable you can do `env.unwrapped.step_wait` for environment variables or `env.get_wrapper_attr('step_wait')` that will search the reminding wrappers.\u001B[0m\n",
      "  logger.warn(\n"
     ]
    },
    {
     "name": "stdout",
     "output_type": "stream",
     "text": [
      "Saving video to /Users/andrew/PycharmProjects/RLtoy/SelfDriving/logs/videos/random_agent_CartRacing-step-1-to-step-1001.mp4\n",
      "Moviepy - Building video /Users/andrew/PycharmProjects/RLtoy/SelfDriving/logs/videos/random_agent_CartRacing-step-1-to-step-1001.mp4.\n",
      "Moviepy - Writing video /Users/andrew/PycharmProjects/RLtoy/SelfDriving/logs/videos/random_agent_CartRacing-step-1-to-step-1001.mp4\n"
     ]
    },
    {
     "name": "stderr",
     "output_type": "stream",
     "text": [
      "/Users/andrew/PycharmProjects/RLtoy/.venv/lib/python3.9/site-packages/gymnasium/core.py:311: UserWarning: \u001B[33mWARN: env.step_async to get variables from other wrappers is deprecated and will be removed in v1.0, to get this variable you can do `env.unwrapped.step_async` for environment variables or `env.get_wrapper_attr('step_async')` that will search the reminding wrappers.\u001B[0m\n",
      "  logger.warn(\n",
      "/Users/andrew/PycharmProjects/RLtoy/.venv/lib/python3.9/site-packages/gymnasium/core.py:311: UserWarning: \u001B[33mWARN: env.step_wait to get variables from other wrappers is deprecated and will be removed in v1.0, to get this variable you can do `env.unwrapped.step_wait` for environment variables or `env.get_wrapper_attr('step_wait')` that will search the reminding wrappers.\u001B[0m\n",
      "  logger.warn(\n"
     ]
    },
    {
     "name": "stdout",
     "output_type": "stream",
     "text": [
      "Moviepy - Done !\n",
      "Moviepy - video ready /Users/andrew/PycharmProjects/RLtoy/SelfDriving/logs/videos/random_agent_CartRacing-step-1-to-step-1001.mp4\n",
      "Episode 0 Score: [-36.666718]\n",
      "Saving video to /Users/andrew/PycharmProjects/RLtoy/SelfDriving/logs/videos/random_agent_CartRacing-step-1001-to-step-2001.mp4\n",
      "Moviepy - Building video /Users/andrew/PycharmProjects/RLtoy/SelfDriving/logs/videos/random_agent_CartRacing-step-1001-to-step-2001.mp4.\n",
      "Moviepy - Writing video /Users/andrew/PycharmProjects/RLtoy/SelfDriving/logs/videos/random_agent_CartRacing-step-1001-to-step-2001.mp4\n"
     ]
    },
    {
     "name": "stderr",
     "output_type": "stream",
     "text": [
      "/Users/andrew/PycharmProjects/RLtoy/.venv/lib/python3.9/site-packages/gymnasium/core.py:311: UserWarning: \u001B[33mWARN: env.step_async to get variables from other wrappers is deprecated and will be removed in v1.0, to get this variable you can do `env.unwrapped.step_async` for environment variables or `env.get_wrapper_attr('step_async')` that will search the reminding wrappers.\u001B[0m\n",
      "  logger.warn(\n",
      "/Users/andrew/PycharmProjects/RLtoy/.venv/lib/python3.9/site-packages/gymnasium/core.py:311: UserWarning: \u001B[33mWARN: env.step_wait to get variables from other wrappers is deprecated and will be removed in v1.0, to get this variable you can do `env.unwrapped.step_wait` for environment variables or `env.get_wrapper_attr('step_wait')` that will search the reminding wrappers.\u001B[0m\n",
      "  logger.warn(\n"
     ]
    },
    {
     "name": "stdout",
     "output_type": "stream",
     "text": [
      "Moviepy - Done !\n",
      "Moviepy - video ready /Users/andrew/PycharmProjects/RLtoy/SelfDriving/logs/videos/random_agent_CartRacing-step-1001-to-step-2001.mp4\n",
      "Episode 1 Score: [-29.577644]\n",
      "Saving video to /Users/andrew/PycharmProjects/RLtoy/SelfDriving/logs/videos/random_agent_CartRacing-step-2001-to-step-3001.mp4\n",
      "Moviepy - Building video /Users/andrew/PycharmProjects/RLtoy/SelfDriving/logs/videos/random_agent_CartRacing-step-2001-to-step-3001.mp4.\n",
      "Moviepy - Writing video /Users/andrew/PycharmProjects/RLtoy/SelfDriving/logs/videos/random_agent_CartRacing-step-2001-to-step-3001.mp4\n"
     ]
    },
    {
     "name": "stderr",
     "output_type": "stream",
     "text": [
      "/Users/andrew/PycharmProjects/RLtoy/.venv/lib/python3.9/site-packages/gymnasium/core.py:311: UserWarning: \u001B[33mWARN: env.step_async to get variables from other wrappers is deprecated and will be removed in v1.0, to get this variable you can do `env.unwrapped.step_async` for environment variables or `env.get_wrapper_attr('step_async')` that will search the reminding wrappers.\u001B[0m\n",
      "  logger.warn(\n",
      "/Users/andrew/PycharmProjects/RLtoy/.venv/lib/python3.9/site-packages/gymnasium/core.py:311: UserWarning: \u001B[33mWARN: env.step_wait to get variables from other wrappers is deprecated and will be removed in v1.0, to get this variable you can do `env.unwrapped.step_wait` for environment variables or `env.get_wrapper_attr('step_wait')` that will search the reminding wrappers.\u001B[0m\n",
      "  logger.warn(\n"
     ]
    },
    {
     "name": "stdout",
     "output_type": "stream",
     "text": [
      "Moviepy - Done !\n",
      "Moviepy - video ready /Users/andrew/PycharmProjects/RLtoy/SelfDriving/logs/videos/random_agent_CartRacing-step-2001-to-step-3001.mp4\n",
      "Episode 2 Score: [-28.825819]\n",
      "Saving video to /Users/andrew/PycharmProjects/RLtoy/SelfDriving/logs/videos/random_agent_CartRacing-step-3001-to-step-4001.mp4\n",
      "Moviepy - Building video /Users/andrew/PycharmProjects/RLtoy/SelfDriving/logs/videos/random_agent_CartRacing-step-3001-to-step-4001.mp4.\n",
      "Moviepy - Writing video /Users/andrew/PycharmProjects/RLtoy/SelfDriving/logs/videos/random_agent_CartRacing-step-3001-to-step-4001.mp4\n"
     ]
    },
    {
     "name": "stderr",
     "output_type": "stream",
     "text": [
      "/Users/andrew/PycharmProjects/RLtoy/.venv/lib/python3.9/site-packages/gymnasium/core.py:311: UserWarning: \u001B[33mWARN: env.step_async to get variables from other wrappers is deprecated and will be removed in v1.0, to get this variable you can do `env.unwrapped.step_async` for environment variables or `env.get_wrapper_attr('step_async')` that will search the reminding wrappers.\u001B[0m\n",
      "  logger.warn(\n",
      "/Users/andrew/PycharmProjects/RLtoy/.venv/lib/python3.9/site-packages/gymnasium/core.py:311: UserWarning: \u001B[33mWARN: env.step_wait to get variables from other wrappers is deprecated and will be removed in v1.0, to get this variable you can do `env.unwrapped.step_wait` for environment variables or `env.get_wrapper_attr('step_wait')` that will search the reminding wrappers.\u001B[0m\n",
      "  logger.warn(\n"
     ]
    },
    {
     "name": "stdout",
     "output_type": "stream",
     "text": [
      "Moviepy - Done !\n",
      "Moviepy - video ready /Users/andrew/PycharmProjects/RLtoy/SelfDriving/logs/videos/random_agent_CartRacing-step-3001-to-step-4001.mp4\n",
      "Episode 3 Score: [-35.593327]\n",
      "Saving video to /Users/andrew/PycharmProjects/RLtoy/SelfDriving/logs/videos/random_agent_CartRacing-step-4001-to-step-5001.mp4\n",
      "Moviepy - Building video /Users/andrew/PycharmProjects/RLtoy/SelfDriving/logs/videos/random_agent_CartRacing-step-4001-to-step-5001.mp4.\n",
      "Moviepy - Writing video /Users/andrew/PycharmProjects/RLtoy/SelfDriving/logs/videos/random_agent_CartRacing-step-4001-to-step-5001.mp4\n"
     ]
    },
    {
     "name": "stderr",
     "output_type": "stream",
     "text": [
      "                                                                "
     ]
    },
    {
     "name": "stdout",
     "output_type": "stream",
     "text": [
      "Moviepy - Done !\n",
      "Moviepy - video ready /Users/andrew/PycharmProjects/RLtoy/SelfDriving/logs/videos/random_agent_CartRacing-step-4001-to-step-5001.mp4\n",
      "Episode 4 Score: [-37.086105]\n"
     ]
    },
    {
     "name": "stderr",
     "output_type": "stream",
     "text": [
      "\r"
     ]
    }
   ],
   "source": [
    "episode = 5\n",
    "\n",
    "for episode in range(episode):\n",
    "    env.reset()\n",
    "    score = 0\n",
    "    done = False\n",
    "    \n",
    "    for _ in range(video_length):\n",
    "        action = [env.action_space.sample()]\n",
    "        obs, reward, done, info = env.step(action)\n",
    "        score += reward\n",
    "        # env.render()\n",
    "        \n",
    "        if done:\n",
    "            break\n",
    "    print(f'Episode {episode} Score: {score}')\n",
    "    "
   ],
   "metadata": {
    "collapsed": false,
    "ExecuteTime": {
     "end_time": "2023-12-26T15:13:41.419655Z",
     "start_time": "2023-12-26T15:12:34.536010Z"
    }
   },
   "id": "640506ecd0258b66",
   "execution_count": 14
  },
  {
   "cell_type": "code",
   "outputs": [
    {
     "name": "stdout",
     "output_type": "stream",
     "text": [
      "Using cpu device\n",
      "Wrapping the env in a VecTransposeImage.\n"
     ]
    },
    {
     "name": "stderr",
     "output_type": "stream",
     "text": [
      "/Users/andrew/PycharmProjects/RLtoy/.venv/lib/python3.9/site-packages/gymnasium/core.py:311: UserWarning: \u001B[33mWARN: env.get_attr to get variables from other wrappers is deprecated and will be removed in v1.0, to get this variable you can do `env.unwrapped.get_attr` for environment variables or `env.get_wrapper_attr('get_attr')` that will search the reminding wrappers.\u001B[0m\n",
      "  logger.warn(\n",
      "/Users/andrew/PycharmProjects/RLtoy/.venv/lib/python3.9/site-packages/gymnasium/core.py:311: UserWarning: \u001B[33mWARN: env.step_async to get variables from other wrappers is deprecated and will be removed in v1.0, to get this variable you can do `env.unwrapped.step_async` for environment variables or `env.get_wrapper_attr('step_async')` that will search the reminding wrappers.\u001B[0m\n",
      "  logger.warn(\n",
      "/Users/andrew/PycharmProjects/RLtoy/.venv/lib/python3.9/site-packages/gymnasium/core.py:311: UserWarning: \u001B[33mWARN: env.step_wait to get variables from other wrappers is deprecated and will be removed in v1.0, to get this variable you can do `env.unwrapped.step_wait` for environment variables or `env.get_wrapper_attr('step_wait')` that will search the reminding wrappers.\u001B[0m\n",
      "  logger.warn(\n"
     ]
    },
    {
     "name": "stdout",
     "output_type": "stream",
     "text": [
      "Saving video to /Users/andrew/PycharmProjects/RLtoy/SelfDriving/logs/videos/random_agent_CartRacing-step-5001-to-step-6001.mp4\n",
      "Moviepy - Building video /Users/andrew/PycharmProjects/RLtoy/SelfDriving/logs/videos/random_agent_CartRacing-step-5001-to-step-6001.mp4.\n",
      "Moviepy - Writing video /Users/andrew/PycharmProjects/RLtoy/SelfDriving/logs/videos/random_agent_CartRacing-step-5001-to-step-6001.mp4\n"
     ]
    },
    {
     "name": "stderr",
     "output_type": "stream",
     "text": [
      "/Users/andrew/PycharmProjects/RLtoy/.venv/lib/python3.9/site-packages/gymnasium/core.py:311: UserWarning: \u001B[33mWARN: env.step_async to get variables from other wrappers is deprecated and will be removed in v1.0, to get this variable you can do `env.unwrapped.step_async` for environment variables or `env.get_wrapper_attr('step_async')` that will search the reminding wrappers.\u001B[0m\n",
      "  logger.warn(\n",
      "/Users/andrew/PycharmProjects/RLtoy/.venv/lib/python3.9/site-packages/gymnasium/core.py:311: UserWarning: \u001B[33mWARN: env.step_wait to get variables from other wrappers is deprecated and will be removed in v1.0, to get this variable you can do `env.unwrapped.step_wait` for environment variables or `env.get_wrapper_attr('step_wait')` that will search the reminding wrappers.\u001B[0m\n",
      "  logger.warn(\n"
     ]
    },
    {
     "name": "stdout",
     "output_type": "stream",
     "text": [
      "Moviepy - Done !\n",
      "Moviepy - video ready /Users/andrew/PycharmProjects/RLtoy/SelfDriving/logs/videos/random_agent_CartRacing-step-5001-to-step-6001.mp4\n",
      "-----------------------------\n",
      "| time/              |      |\n",
      "|    fps             | 105  |\n",
      "|    iterations      | 1    |\n",
      "|    time_elapsed    | 19   |\n",
      "|    total_timesteps | 2048 |\n",
      "-----------------------------\n",
      "-----------------------------------------\n",
      "| time/                   |             |\n",
      "|    fps                  | 127         |\n",
      "|    iterations           | 2           |\n",
      "|    time_elapsed         | 32          |\n",
      "|    total_timesteps      | 4096        |\n",
      "| train/                  |             |\n",
      "|    approx_kl            | 0.008062696 |\n",
      "|    clip_fraction        | 0.0945      |\n",
      "|    clip_range           | 0.2         |\n",
      "|    entropy_loss         | -4.23       |\n",
      "|    explained_variance   | -0.0177     |\n",
      "|    learning_rate        | 0.0003      |\n",
      "|    loss                 | 0.372       |\n",
      "|    n_updates            | 10          |\n",
      "|    policy_gradient_loss | -0.00702    |\n",
      "|    std                  | 0.983       |\n",
      "|    value_loss           | 1.37        |\n",
      "-----------------------------------------\n",
      "-----------------------------------------\n",
      "| time/                   |             |\n",
      "|    fps                  | 136         |\n",
      "|    iterations           | 3           |\n",
      "|    time_elapsed         | 44          |\n",
      "|    total_timesteps      | 6144        |\n",
      "| train/                  |             |\n",
      "|    approx_kl            | 0.008594492 |\n",
      "|    clip_fraction        | 0.0761      |\n",
      "|    clip_range           | 0.2         |\n",
      "|    entropy_loss         | -4.2        |\n",
      "|    explained_variance   | 0.0013      |\n",
      "|    learning_rate        | 0.0003      |\n",
      "|    loss                 | 0.625       |\n",
      "|    n_updates            | 20          |\n",
      "|    policy_gradient_loss | -0.00549    |\n",
      "|    std                  | 0.98        |\n",
      "|    value_loss           | 0.919       |\n",
      "-----------------------------------------\n",
      "-----------------------------------------\n",
      "| time/                   |             |\n",
      "|    fps                  | 141         |\n",
      "|    iterations           | 4           |\n",
      "|    time_elapsed         | 57          |\n",
      "|    total_timesteps      | 8192        |\n",
      "| train/                  |             |\n",
      "|    approx_kl            | 0.008208622 |\n",
      "|    clip_fraction        | 0.115       |\n",
      "|    clip_range           | 0.2         |\n",
      "|    entropy_loss         | -4.18       |\n",
      "|    explained_variance   | 6.56e-07    |\n",
      "|    learning_rate        | 0.0003      |\n",
      "|    loss                 | 0.318       |\n",
      "|    n_updates            | 30          |\n",
      "|    policy_gradient_loss | -0.0102     |\n",
      "|    std                  | 0.97        |\n",
      "|    value_loss           | 1.01        |\n",
      "-----------------------------------------\n",
      "-----------------------------------------\n",
      "| time/                   |             |\n",
      "|    fps                  | 144         |\n",
      "|    iterations           | 5           |\n",
      "|    time_elapsed         | 70          |\n",
      "|    total_timesteps      | 10240       |\n",
      "| train/                  |             |\n",
      "|    approx_kl            | 0.005382915 |\n",
      "|    clip_fraction        | 0.0617      |\n",
      "|    clip_range           | 0.2         |\n",
      "|    entropy_loss         | -4.14       |\n",
      "|    explained_variance   | 0.00343     |\n",
      "|    learning_rate        | 0.0003      |\n",
      "|    loss                 | 0.185       |\n",
      "|    n_updates            | 40          |\n",
      "|    policy_gradient_loss | -0.00367    |\n",
      "|    std                  | 0.953       |\n",
      "|    value_loss           | 1.03        |\n",
      "-----------------------------------------\n"
     ]
    },
    {
     "data": {
      "text/plain": "<stable_baselines3.ppo.ppo.PPO at 0x28a7ac550>"
     },
     "execution_count": 15,
     "metadata": {},
     "output_type": "execute_result"
    }
   ],
   "source": [
    "# train model\n",
    "model = PPO('MlpPolicy', env, verbose=1)\n",
    "model.learn(total_timesteps=10000)"
   ],
   "metadata": {
    "collapsed": false,
    "ExecuteTime": {
     "end_time": "2023-12-26T15:15:30.170377Z",
     "start_time": "2023-12-26T15:14:16.636639Z"
    }
   },
   "id": "c894c71945d686ce",
   "execution_count": 15
  },
  {
   "cell_type": "code",
   "outputs": [
    {
     "name": "stderr",
     "output_type": "stream",
     "text": [
      "/Users/andrew/PycharmProjects/RLtoy/.venv/lib/python3.9/site-packages/gymnasium/core.py:311: UserWarning: \u001B[33mWARN: env.env_is_wrapped to get variables from other wrappers is deprecated and will be removed in v1.0, to get this variable you can do `env.unwrapped.env_is_wrapped` for environment variables or `env.get_wrapper_attr('env_is_wrapped')` that will search the reminding wrappers.\u001B[0m\n",
      "  logger.warn(\n",
      "/Users/andrew/PycharmProjects/RLtoy/.venv/lib/python3.9/site-packages/stable_baselines3/common/evaluation.py:67: UserWarning: Evaluation environment is not wrapped with a ``Monitor`` wrapper. This may result in reporting modified episode lengths and rewards, if other wrappers happen to modify these. Consider wrapping environment first with ``Monitor`` wrapper.\n",
      "  warnings.warn(\n"
     ]
    },
    {
     "name": "stdout",
     "output_type": "stream",
     "text": [
      "Saving video to /Users/andrew/PycharmProjects/RLtoy/SelfDriving/logs/videos/random_agent_CartRacing-step-15241-to-step-16241.mp4\n",
      "Moviepy - Building video /Users/andrew/PycharmProjects/RLtoy/SelfDriving/logs/videos/random_agent_CartRacing-step-15241-to-step-16241.mp4.\n",
      "Moviepy - Writing video /Users/andrew/PycharmProjects/RLtoy/SelfDriving/logs/videos/random_agent_CartRacing-step-15241-to-step-16241.mp4\n"
     ]
    },
    {
     "name": "stderr",
     "output_type": "stream",
     "text": [
      "/Users/andrew/PycharmProjects/RLtoy/.venv/lib/python3.9/site-packages/gymnasium/core.py:311: UserWarning: \u001B[33mWARN: env.step_async to get variables from other wrappers is deprecated and will be removed in v1.0, to get this variable you can do `env.unwrapped.step_async` for environment variables or `env.get_wrapper_attr('step_async')` that will search the reminding wrappers.\u001B[0m\n",
      "  logger.warn(\n",
      "/Users/andrew/PycharmProjects/RLtoy/.venv/lib/python3.9/site-packages/gymnasium/core.py:311: UserWarning: \u001B[33mWARN: env.step_wait to get variables from other wrappers is deprecated and will be removed in v1.0, to get this variable you can do `env.unwrapped.step_wait` for environment variables or `env.get_wrapper_attr('step_wait')` that will search the reminding wrappers.\u001B[0m\n",
      "  logger.warn(\n"
     ]
    },
    {
     "name": "stdout",
     "output_type": "stream",
     "text": [
      "Moviepy - Done !\n",
      "Moviepy - video ready /Users/andrew/PycharmProjects/RLtoy/SelfDriving/logs/videos/random_agent_CartRacing-step-15241-to-step-16241.mp4\n"
     ]
    },
    {
     "name": "stderr",
     "output_type": "stream",
     "text": [
      "/Users/andrew/PycharmProjects/RLtoy/.venv/lib/python3.9/site-packages/gymnasium/core.py:311: UserWarning: \u001B[33mWARN: env.getattr_depth_check to get variables from other wrappers is deprecated and will be removed in v1.0, to get this variable you can do `env.unwrapped.getattr_depth_check` for environment variables or `env.get_wrapper_attr('getattr_depth_check')` that will search the reminding wrappers.\u001B[0m\n",
      "  logger.warn(\n",
      "/Users/andrew/PycharmProjects/RLtoy/.venv/lib/python3.9/site-packages/gymnasium/core.py:311: UserWarning: \u001B[33mWARN: env.getattr_recursive to get variables from other wrappers is deprecated and will be removed in v1.0, to get this variable you can do `env.unwrapped.getattr_recursive` for environment variables or `env.get_wrapper_attr('getattr_recursive')` that will search the reminding wrappers.\u001B[0m\n",
      "  logger.warn(\n",
      "/Users/andrew/PycharmProjects/RLtoy/.venv/lib/python3.9/site-packages/gymnasium/core.py:311: UserWarning: \u001B[33mWARN: env.recording to get variables from other wrappers is deprecated and will be removed in v1.0, to get this variable you can do `env.unwrapped.recording` for environment variables or `env.get_wrapper_attr('recording')` that will search the reminding wrappers.\u001B[0m\n",
      "  logger.warn(\n",
      "Exception ignored in: <function VecVideoRecorder.__del__ at 0x28a6fa700>\n",
      "Traceback (most recent call last):\n",
      "  File \"/Users/andrew/PycharmProjects/RLtoy/.venv/lib/python3.9/site-packages/stable_baselines3/common/vec_env/vec_video_recorder.py\", line 113, in __del__\n",
      "    self.close_video_recorder()\n",
      "  File \"/Users/andrew/PycharmProjects/RLtoy/.venv/lib/python3.9/site-packages/stable_baselines3/common/vec_env/vec_video_recorder.py\", line 103, in close_video_recorder\n",
      "    if self.recording:\n",
      "  File \"/Users/andrew/PycharmProjects/RLtoy/.venv/lib/python3.9/site-packages/stable_baselines3/common/vec_env/base_vec_env.py\", line 420, in __getattr__\n",
      "    return self.getattr_recursive(name)\n",
      "  File \"/Users/andrew/PycharmProjects/RLtoy/.venv/lib/python3.9/site-packages/stable_baselines3/common/vec_env/base_vec_env.py\", line 445, in getattr_recursive\n",
      "    attr = getattr(self.venv, name)\n",
      "  File \"/Users/andrew/PycharmProjects/RLtoy/.venv/lib/python3.9/site-packages/gymnasium/core.py\", line 315, in __getattr__\n",
      "    return getattr(self.env, name)\n",
      "AttributeError: 'DummyVecEnv' object has no attribute 'recording'\n"
     ]
    },
    {
     "data": {
      "text/plain": "(-75.65982940889894, 2.043756565050932)"
     },
     "execution_count": 17,
     "metadata": {},
     "output_type": "execute_result"
    }
   ],
   "source": [
    "evaluate_policy(model=model, env=env, n_eval_episodes=100)"
   ],
   "metadata": {
    "collapsed": false,
    "ExecuteTime": {
     "end_time": "2023-12-26T15:24:41.398002Z",
     "start_time": "2023-12-26T15:16:40.004471Z"
    }
   },
   "id": "3930dc210ac424ac",
   "execution_count": 17
  },
  {
   "cell_type": "code",
   "outputs": [],
   "source": [],
   "metadata": {
    "collapsed": false
   },
   "id": "8ff0ad5ca05321ae"
  }
 ],
 "metadata": {
  "kernelspec": {
   "display_name": "Python 3",
   "language": "python",
   "name": "python3"
  },
  "language_info": {
   "codemirror_mode": {
    "name": "ipython",
    "version": 2
   },
   "file_extension": ".py",
   "mimetype": "text/x-python",
   "name": "python",
   "nbconvert_exporter": "python",
   "pygments_lexer": "ipython2",
   "version": "2.7.6"
  }
 },
 "nbformat": 4,
 "nbformat_minor": 5
}
