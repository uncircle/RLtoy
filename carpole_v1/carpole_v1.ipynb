{
 "cells": [
  {
   "cell_type": "code",
   "execution_count": null,
   "id": "initial_id",
   "metadata": {
    "collapsed": true
   },
   "outputs": [],
   "source": [
    "import gymnasium as gym\n",
    "import os\n",
    "from stable_baselines3 import PPO\n",
    "from stable_baselines3.common.monitor import Monitor\n",
    "from stable_baselines3.common.vec_env import DummyVecEnv\n",
    "from stable_baselines3.common.evaluation import evaluate_policy\n"
   ]
  },
  {
   "cell_type": "code",
   "outputs": [],
   "source": [
    "env = gym.make('CartPole-v1', render_mode=\"rgb_array\")"
   ],
   "metadata": {
    "collapsed": false
   },
   "id": "9daad28b45bddc03",
   "execution_count": null
  },
  {
   "cell_type": "code",
   "outputs": [],
   "source": [
    "env.action_space.sample()"
   ],
   "metadata": {
    "collapsed": false
   },
   "id": "417bef901dbbf727",
   "execution_count": null
  },
  {
   "cell_type": "code",
   "outputs": [],
   "source": [
    "env.reset()\n",
    "env.step(env.action_space.sample())"
   ],
   "metadata": {
    "collapsed": false
   },
   "id": "4a7176f59482475",
   "execution_count": null
  },
  {
   "cell_type": "code",
   "outputs": [],
   "source": [
    "episodes = 5\n",
    "\n",
    "# random policy\n",
    "for episode in range(1, episodes+1):\n",
    "    state = env.reset()\n",
    "    done1 = False\n",
    "    done2 = False\n",
    "    score = 0\n",
    "    \n",
    "    while not (done1 or done2):\n",
    "        env.render()\n",
    "        action = env.action_space.sample()\n",
    "        n_state, reward, done1, done2, _ = env.step(action)\n",
    "        score += reward\n",
    "    print(f'Episode {episode} Score {score}')\n",
    "    \n",
    "env.close()"
   ],
   "metadata": {
    "collapsed": false
   },
   "id": "2b13ce2794e7808e",
   "execution_count": null
  },
  {
   "cell_type": "code",
   "outputs": [],
   "source": [
    "log_path = os.path.join('Training', 'Logs')"
   ],
   "metadata": {
    "collapsed": false
   },
   "id": "e571ae5ddc1bf545",
   "execution_count": null
  },
  {
   "cell_type": "code",
   "outputs": [],
   "source": [
    "if not os.path.exists(log_path):\n",
    "    os.makedirs(log_path)\n",
    "env = Monitor(env, log_path)\n",
    "env = DummyVecEnv([lambda:env])"
   ],
   "metadata": {
    "collapsed": false
   },
   "id": "cba283cd3b3627d8",
   "execution_count": null
  },
  {
   "cell_type": "code",
   "outputs": [],
   "source": [
    "model = PPO('MlpPolicy', env, verbose=1, tensorboard_log=log_path)"
   ],
   "metadata": {
    "collapsed": false
   },
   "id": "f87065007684c589",
   "execution_count": null
  },
  {
   "cell_type": "code",
   "outputs": [],
   "source": [
    "model.learn(total_timesteps=20000)"
   ],
   "metadata": {
    "collapsed": false
   },
   "id": "fcaec6f138114f63",
   "execution_count": null
  },
  {
   "cell_type": "code",
   "outputs": [],
   "source": [
    "PPO_Path = os.path.join('Training', 'Models', 'PPO_Model_Reacher')\n",
    "\n",
    "model.save(PPO_Path)"
   ],
   "metadata": {
    "collapsed": false
   },
   "id": "ae3789f683c26bda",
   "execution_count": null
  },
  {
   "cell_type": "code",
   "outputs": [],
   "source": [
    "model??"
   ],
   "metadata": {
    "collapsed": false
   },
   "id": "443542ea8b63de7e",
   "execution_count": null
  },
  {
   "cell_type": "code",
   "outputs": [],
   "source": [
    "del model"
   ],
   "metadata": {
    "collapsed": false
   },
   "id": "99ba4d0caa1c9f08",
   "execution_count": null
  },
  {
   "cell_type": "code",
   "outputs": [],
   "source": [
    "model = PPO.load(PPO_Path, env=env, verbose=1)"
   ],
   "metadata": {
    "collapsed": false
   },
   "id": "692587cf4e6a6fd",
   "execution_count": null
  },
  {
   "cell_type": "code",
   "outputs": [],
   "source": [
    "evaluate_policy(model, env, n_eval_episodes=10, render=True)"
   ],
   "metadata": {
    "collapsed": false
   },
   "id": "aed86176b8b9553e",
   "execution_count": null
  },
  {
   "cell_type": "code",
   "outputs": [],
   "source": [
    "model.predict(env.reset())"
   ],
   "metadata": {
    "collapsed": false
   },
   "id": "c1098f7b5a56d316",
   "execution_count": null
  },
  {
   "cell_type": "code",
   "outputs": [],
   "source": [
    "episodes = 5\n",
    "for episode in range(1, episodes+1):\n",
    "    obs = env.reset()\n",
    "    done1 = False\n",
    "    done2 = False\n",
    "    score = 0\n",
    "    \n",
    "    while not (done1 and done2):\n",
    "        env.render()\n",
    "        action, _ = model.predict(obs)\n",
    "        obs, reward, done1, done2 = env.step(action)\n",
    "        score += reward\n",
    "    print(f'Episode {episode} Score {score}')\n",
    "env.close()"
   ],
   "metadata": {
    "collapsed": false
   },
   "id": "685a0cb22bbb7af9",
   "execution_count": null
  },
  {
   "cell_type": "code",
   "outputs": [],
   "source": [
    "model.predict??"
   ],
   "metadata": {
    "collapsed": false
   },
   "id": "58228e1b9f421fb4",
   "execution_count": null
  },
  {
   "cell_type": "code",
   "outputs": [],
   "source": [
    "training_log_path = os.path.join('Training', 'Logs', 'PPO_5')"
   ],
   "metadata": {
    "collapsed": false
   },
   "id": "47c20ccbe1c70e90",
   "execution_count": null
  },
  {
   "cell_type": "code",
   "outputs": [],
   "source": [
    "# callback"
   ],
   "metadata": {
    "collapsed": false
   },
   "id": "1449206479360e72",
   "execution_count": null
  },
  {
   "cell_type": "code",
   "outputs": [],
   "source": [
    "from stable_baselines3.common.callbacks import EvalCallback, StopTrainingOnRewardThreshold"
   ],
   "metadata": {
    "collapsed": false
   },
   "id": "53a3119253ccacd",
   "execution_count": null
  },
  {
   "cell_type": "code",
   "outputs": [],
   "source": [
    "best_model_path = os.path.join('Training', 'BestModels')"
   ],
   "metadata": {
    "collapsed": false
   },
   "id": "c432556ec4c142f9",
   "execution_count": null
  },
  {
   "cell_type": "code",
   "outputs": [],
   "source": [
    "stop_callback = StopTrainingOnRewardThreshold(reward_threshold=10)\n",
    "# eval_callback triggered after each trainning run, every time in best model, it gona run that stopcallback\n",
    "eval_callback = EvalCallback(env, callback_on_new_best=stop_callback,best_model_save_path=best_model_path, eval_freq=10000, verbose=1)"
   ],
   "metadata": {
    "collapsed": false
   },
   "id": "571482f3cf27aaea",
   "execution_count": null
  },
  {
   "cell_type": "code",
   "outputs": [],
   "source": [
    "model2 = PPO('MlpPolicy', env, verbose=1, tensorboard_log=log_path)"
   ],
   "metadata": {
    "collapsed": false
   },
   "id": "fc777f013921023e",
   "execution_count": null
  },
  {
   "cell_type": "code",
   "outputs": [],
   "source": [
    "model2.learn(total_timesteps=200000, callback=eval_callback)"
   ],
   "metadata": {
    "collapsed": false
   },
   "id": "b614e6f7eb20a538",
   "execution_count": null
  },
  {
   "cell_type": "code",
   "outputs": [],
   "source": [
    "# changing policies"
   ],
   "metadata": {
    "collapsed": false
   },
   "id": "1de8d1e28c00e620",
   "execution_count": null
  },
  {
   "cell_type": "code",
   "outputs": [],
   "source": [
    "net_arch = dict(pi=[128, 128, 128, 128], vf=[128, 128, 128, 128])"
   ],
   "metadata": {
    "collapsed": false
   },
   "id": "751e98689fd327e1",
   "execution_count": null
  },
  {
   "cell_type": "code",
   "outputs": [],
   "source": [
    "model3 = PPO('MlpPolicy', env, verbose=1, tensorboard_log=log_path, policy_kwargs={'net_arch': net_arch})"
   ],
   "metadata": {
    "collapsed": false
   },
   "id": "66999828db13bf29",
   "execution_count": null
  },
  {
   "cell_type": "code",
   "outputs": [],
   "source": [
    "model3.learn(total_timesteps=20000, callback=eval_callback)"
   ],
   "metadata": {
    "collapsed": false
   },
   "id": "89d34c9f7d9378b",
   "execution_count": null
  },
  {
   "cell_type": "code",
   "outputs": [],
   "source": [
    "# use other algo, e.g. DDPG"
   ],
   "metadata": {
    "collapsed": false
   },
   "id": "48de435ef27d05c0",
   "execution_count": null
  },
  {
   "cell_type": "code",
   "outputs": [],
   "source": [
    "from stable_baselines3 import DDPG"
   ],
   "metadata": {
    "collapsed": false
   },
   "id": "7726847892608d42",
   "execution_count": null
  },
  {
   "cell_type": "code",
   "outputs": [],
   "source": [
    "model4 = DDPG('MlpPolicy', env, verbose=1, tensorboard_log=log_path)"
   ],
   "metadata": {
    "collapsed": false
   },
   "id": "887b581331f5289c",
   "execution_count": null
  },
  {
   "cell_type": "code",
   "outputs": [],
   "source": [
    "model4.learn(total_timesteps=20000, callback=eval_callback)"
   ],
   "metadata": {
    "collapsed": false
   },
   "id": "c616b58c1aa29280",
   "execution_count": null
  },
  {
   "cell_type": "code",
   "outputs": [],
   "source": [],
   "metadata": {
    "collapsed": false
   },
   "id": "ce111c06dc12520f"
  }
 ],
 "metadata": {
  "kernelspec": {
   "display_name": "Python 3",
   "language": "python",
   "name": "python3"
  },
  "language_info": {
   "codemirror_mode": {
    "name": "ipython",
    "version": 2
   },
   "file_extension": ".py",
   "mimetype": "text/x-python",
   "name": "python",
   "nbconvert_exporter": "python",
   "pygments_lexer": "ipython2",
   "version": "2.7.6"
  }
 },
 "nbformat": 4,
 "nbformat_minor": 5
}
